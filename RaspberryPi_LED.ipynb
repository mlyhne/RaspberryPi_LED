{
 "cells": [
  {
   "cell_type": "markdown",
   "metadata": {},
   "source": [
    "# Tænd og sluk lysdioder med Raspberry Pi"
   ]
  },
  {
   "cell_type": "markdown",
   "metadata": {},
   "source": [
    "![Layout](Raspberry-LED.png)\n",
    "\n",
    "## Opgave : Tænk en lysdiode koblet til pin 18, 23 og 24\n",
    "\n",
    "### Du skal bruge:\n",
    "* 1 Breadboard\n",
    "* 3 Lysdiode\n",
    "* 3 Modstand 150 Ohm\n",
    "* 4 Hun-han ledninger\n",
    "\n",
    "Først skal du installere biblioteket til at styre pins RPi.GPIO\n",
    "klik på cellen herunder og tast SHIFT+ENTER."
   ]
  },
  {
   "cell_type": "code",
   "execution_count": null,
   "metadata": {},
   "outputs": [],
   "source": [
    "# dette er en kommentarlinje\n",
    "# Gør denne celle aktiv og tast SHIFT+ÉNTER for at udføre den.\n",
    "!pip install RPi.GPIO"
   ]
  },
  {
   "cell_type": "markdown",
   "metadata": {},
   "source": [
    "Hvis alt er ok til der stå\n",
    "```\n",
    "Successfully installed RPi.GPIO\n",
    "```\n",
    "eller\n",
    "```\n",
    "Requirement already satisfied\n",
    "```\n",
    "nu kan du importere biblioteket i python ved at skrive:\n",
    "```python\n",
    "import RPi.GPIO as GPIO\n",
    "```\n",
    "Det fortæller Python at den skal læse biblioteket RPi.GPIO ind og kalde det GPIO.\n",
    "Gør det i cellen herunder."
   ]
  },
  {
   "cell_type": "code",
   "execution_count": null,
   "metadata": {},
   "outputs": [],
   "source": [
    "#løsning\n",
    "import RPi.GPIO as GPIO"
   ]
  },
  {
   "cell_type": "markdown",
   "metadata": {},
   "source": [
    "Nu skal du fortælle hvilket layout du vil bruge til pins, samt hvilken pin du vil bruge.\n",
    "```python\n",
    "GPIO.setmode(GPIO.BCM)   # Sæt BCM (broadcom layout) på Pins.\n",
    "GPIO.setup(7, GPIO.OUT)  # Fortæl Raspberry at Pin 7 er en output Pin.\n",
    "GPIO.setup(11,GPIO.IN)   # Fortæl Raspberry at pin 11 er en input Pin.\n",
    "```\n",
    "GPIO.setmode sætter det layout af pins.\n",
    "Vi bruger BCM layoutet, som er vist her:<br>\n",
    "![GPIO](Raspberry-GPIO.jpg)\n",
    "\n",
    "**GPIO.setmode** skal være først i hvert program inden vi laver setup af pins.\n",
    "**GPIO.setup** fortæller om vi ønsker at læse input eller styre output på en pin.<br>\n",
    "\n",
    "Skriv koden så du laver setmode til BCM samt pin 18, 23 og 24 til output."
   ]
  },
  {
   "cell_type": "code",
   "execution_count": null,
   "metadata": {},
   "outputs": [],
   "source": [
    "# Løsning\n",
    "GPIO.setmode(GPIO.BCM)    \n",
    "GPIO.setup(18, GPIO.OUT)\n",
    "GPIO.setup(23, GPIO.OUT)\n",
    "GPIO.setup(24, GPIO.OUT)"
   ]
  },
  {
   "cell_type": "markdown",
   "metadata": {},
   "source": [
    "Du kan nu styre om der er støm på pin 18 ved at skriver.\n",
    "```python\n",
    "GPIO.output(18, True)  # Tændt\n",
    "GPIO.output(18, False) # Slukket\n",
    "```\n",
    "Prøv om du kan tænde og slukke alle 3 lysdioder."
   ]
  },
  {
   "cell_type": "code",
   "execution_count": null,
   "metadata": {},
   "outputs": [],
   "source": [
    "# Løsning\n",
    "GPIO.output(18, True)  # tænd\n",
    "#GPIO.output(18, False) # sluk\n",
    "GPIO.output(23, True)  # tænd\n",
    "#GPIO.output(23, False) # sluk\n",
    "GPIO.output(24, True)  # tænd\n",
    "#GPIO.output(24, False) # sluk"
   ]
  },
  {
   "cell_type": "markdown",
   "metadata": {},
   "source": [
    "Når dit program er færdig er det en god idé, at kalde **GPIO.cleanup** funktionen, som nulstiller alle pins.\n",
    "```python\n",
    "GPIO.cleanup()        # nulstil alle GPIO pins\n",
    "```\n",
    "Prøv at tænde pin alle 3 lysdioder og derefter kalde **GPIO.cleanup**.<br>\n",
    "Hvad sker der?\n",
    "Hvad tror du der sker hvis programmet stopper uden at klade **GPIO.cleanup**?"
   ]
  },
  {
   "cell_type": "code",
   "execution_count": null,
   "metadata": {},
   "outputs": [],
   "source": [
    "# Løsning\n",
    "GPIO.output(18, True)  # tænd\n",
    "GPIO.output(23, True)  # tænd\n",
    "GPIO.output(24, True)  # tænd\n",
    "GPIO.cleanup()"
   ]
  },
  {
   "cell_type": "markdown",
   "metadata": {},
   "source": [
    "Prøv om du kan lave et program der tænder hver lysdioden i 2 sekunder og derefter slukker den.<br>\n",
    "Hvis ud importere **time** biblioteket kan du benytte **time.sleep** funktionen til at vente.\n",
    "```python\n",
    "import time\n",
    "time.sleep(5)   # vent i 5 senkunder\n",
    "```\n",
    "Skriv din løsning herunder, og tast SHIFT+ENTER for at udføre den."
   ]
  },
  {
   "cell_type": "code",
   "execution_count": null,
   "metadata": {},
   "outputs": [],
   "source": [
    "# Løsning\n",
    "import RPi.GPIO as GPIO\n",
    "import time\n",
    "\n",
    "GPIO.setmode(GPIO.BCM)    \n",
    "GPIO.setup(18, GPIO.OUT)\n",
    "GPIO.setup(23, GPIO.OUT)\n",
    "GPIO.setup(24, GPIO.OUT)\n",
    "\n",
    "GPIO.output(18, True)\n",
    "time.sleep(2)\n",
    "GPIO.output(18, False)\n",
    "\n",
    "GPIO.output(23, True) \n",
    "time.sleep(2)\n",
    "GPIO.output(23, False)\n",
    "\n",
    "GPIO.output(24, True)\n",
    "time.sleep(2)\n",
    "\n",
    "GPIO.cleanup()"
   ]
  }
 ],
 "metadata": {
  "kernelspec": {
   "display_name": "Python 3",
   "language": "python",
   "name": "python3"
  },
  "language_info": {
   "codemirror_mode": {
    "name": "ipython",
    "version": 3
   },
   "file_extension": ".py",
   "mimetype": "text/x-python",
   "name": "python",
   "nbconvert_exporter": "python",
   "pygments_lexer": "ipython3",
   "version": "3.6.7"
  }
 },
 "nbformat": 4,
 "nbformat_minor": 2
}
